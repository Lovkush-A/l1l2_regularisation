{
 "cells": [
  {
   "cell_type": "code",
   "execution_count": null,
   "metadata": {},
   "outputs": [],
   "source": [
    "import numpy as np\n",
    "import torch\n",
    "import matplotlib.pyplot as plt\n",
    "from matplotlib.image import AxesImage\n",
    "from matplotlib import animation, rc\n",
    "rc('animation', html='jshtml')\n",
    "\n",
    "%matplotlib inline"
   ]
  },
  {
   "cell_type": "code",
   "execution_count": null,
   "metadata": {},
   "outputs": [],
   "source": [
    "def create_cost_fn(centre_x, centre_y, reg=None,  reg_const=0):\n",
    "    \"\"\"\n",
    "    returns a convex cost function\n",
    "    \"\"\"\n",
    "    if reg is None:\n",
    "        def cost(x,y):\n",
    "            return (x - centre_x)**2 + (y - centre_y)**2\n",
    "    elif reg == 'l1':\n",
    "        def cost(x,y):\n",
    "            return (x - centre_x)**2 + (y - centre_y)**2 + reg_const*(abs(x) + abs(y))\n",
    "    elif reg == 'l2':\n",
    "        def cost(x,y):\n",
    "            return (x - centre_x)**2 + (y - centre_y)**2 + reg_const*(x**2 + y**2)\n",
    "    elif reg == 'max':\n",
    "        def cost(x,y):\n",
    "            return (x - centre_x)**2 + (y - centre_y)**2 + reg_const*(x**10 + y**10)**0.1\n",
    "    \n",
    "    return cost\n",
    "\n",
    "\n",
    "def create_cost_inputs_outputs(cost, xmin=-10, xmax=10, ymin=-10, ymax=10):\n",
    "    \"\"\"\n",
    "    returns numpy arrays x,y,z where z = cost(x,y)\n",
    "    \"\"\"\n",
    "    x = np.linspace(xmin, xmax, num=100) + (np.random.random(100)-0.5)*xmax/50\n",
    "    y = np.linspace(ymin, ymax, num=100) + (np.random.random(100)-0.5)*ymax/50\n",
    "    x,y = np.meshgrid(x,y, sparse = False)\n",
    "    z = cost(x,y)\n",
    "    \n",
    "    return x,y,z\n",
    "\n",
    "\n",
    "def plot_contour(x, y, z, levels = np.arange(0,51,2.5)):\n",
    "    \"\"\"\n",
    "    creates a contour plot where z is some function of x and y\n",
    "    \"\"\"\n",
    "    fig, ax = plt.subplots(figsize = (10,10))\n",
    "    plt.contour(x, y, z,\n",
    "                levels = levels\n",
    "               )\n",
    "    \n",
    "    return fig, ax\n",
    "\n",
    "\n",
    "def create_y_l1_coordinate(x, r):\n",
    "    \"\"\"\n",
    "    Return positive y coordinate on l1 ball of radius r and centre 0 with x-coordinate x\n",
    "    \"\"\"\n",
    "    if x >= 0:\n",
    "        return r - x\n",
    "    elif x <= 0:\n",
    "        return r + x\n",
    "\n",
    "create_y_l1_coordinates = np.vectorize(create_y_l1_coordinate)\n",
    "\n",
    "\n",
    "def create_y_l2_coordinate(x, r):\n",
    "    \"\"\"\n",
    "    Return positive y coordinate on l2 ball of radius r and centre 0 with x-coordinate x\n",
    "    \"\"\"\n",
    "    return sqrt(r**2 - x**2)\n",
    "\n",
    "create_y_l2_coordinates = np.vectorize(create_y_l2_coordinate)\n",
    "\n",
    "\n",
    "def create_ball_boundary(r, norm):\n",
    "    \"\"\"\n",
    "    returns numpy arrays x and y such that\n",
    "    [(xi,yi) for i in len(x)] traces out the boundary of\n",
    "    a ball with radius r using the norm provided\n",
    "    \"\"\"\n",
    "    x = np.linspace(-r,r,100)\n",
    "    \n",
    "    if norm == 'l1':\n",
    "        y_pos = create_y_l1_coordinates(x, r)\n",
    "    elif norm == 'l2':\n",
    "        y_pos = np.sqrt(r**2 - x**2)\n",
    "    elif norm == 'max':\n",
    "        r10 = r**10\n",
    "        y_pos = (r10 - x**10)**0.1\n",
    "\n",
    "    y_neg = -y_pos\n",
    "\n",
    "    x = np.concatenate([x,x[::-1]])\n",
    "    y = np.concatenate([y_pos, y_neg[::-1]])\n",
    "    \n",
    "    return x,y\n",
    "\n",
    "def plot_ball(x, y, ax):\n",
    "    \"\"\"\n",
    "    shade in the area enclosed by the coordinates [(xi,yi) for i in len(x)]\n",
    "    \"\"\"\n",
    "    ax.fill(x, y, 'b',\n",
    "            x, y, 'b',\n",
    "            alpha = 0.2\n",
    "           )\n",
    "\n",
    "def minimise_cost(cost, x, y):\n",
    "    \"\"\"\n",
    "    given list of x and y coordinates, determine the coordinate which minimises\n",
    "    the cost function cost(x,y)\n",
    "    \"\"\"\n",
    "    costs = cost(x,y)\n",
    "    min_index = np.argmin(costs)\n",
    "    return x[min_index], y[min_index]\n",
    "\n",
    "\n",
    "def do_everything(centre_x, centre_y,\n",
    "                  ball_radius = 4,\n",
    "                  norm = 'l1'\n",
    "                 ):\n",
    "    \"\"\"\n",
    "    create convex cost function with min point (centre_x, centre_y)\n",
    "    create a ball of radius ball_radius with given norm\n",
    "    find point in this ball that minimizes the cost function\n",
    "    create plot containing all this information\n",
    "    \"\"\"\n",
    "    cost = create_cost_fn(centre_x, centre_y)\n",
    "    cost_inputs_x, cost_inputs_y, cost_outputs = create_cost_inputs_outputs(cost)\n",
    "    fig, ax = plot_contour(cost_inputs_x, cost_inputs_y, cost_outputs)\n",
    "    \n",
    "    x_ball, y_ball = create_ball_boundary(ball_radius, norm)\n",
    "    plot_ball(x_ball, y_ball, ax)\n",
    "    \n",
    "    x_min, y_min = minimise_cost(cost, x_ball, y_ball)\n",
    "    plt.plot(x_min, y_min,\n",
    "             marker = 'o',\n",
    "             color = 'red',\n",
    "             label = 'Minimum value of cost within shaded region'\n",
    "            )\n",
    "    plt.legend()\n",
    "    return fig, ax"
   ]
  },
  {
   "cell_type": "code",
   "execution_count": null,
   "metadata": {},
   "outputs": [],
   "source": []
  },
  {
   "cell_type": "code",
   "execution_count": null,
   "metadata": {},
   "outputs": [],
   "source": [
    "norm = 'l1'"
   ]
  },
  {
   "cell_type": "markdown",
   "metadata": {},
   "source": [
    "## Without regularsiation, vary cost function, plot contours and ball, plot optimal parameters as red dot"
   ]
  },
  {
   "cell_type": "code",
   "execution_count": null,
   "metadata": {},
   "outputs": [],
   "source": [
    "angles = np.linspace(0, 2*np.pi)\n",
    "centres_x = 5*np.cos(angles)\n",
    "centres_y = 5*np.sin(angles)\n",
    "\n",
    "for i in range(len(angles)):\n",
    "    fig, ax = do_everything(centres_x[i], centres_y[i], ball_radius = 1, norm = norm)\n",
    "    plt.savefig(f'{norm}/{i:03}')\n",
    "    plt.show()"
   ]
  },
  {
   "cell_type": "code",
   "execution_count": null,
   "metadata": {},
   "outputs": [],
   "source": []
  },
  {
   "cell_type": "code",
   "execution_count": null,
   "metadata": {},
   "outputs": [],
   "source": []
  },
  {
   "cell_type": "code",
   "execution_count": null,
   "metadata": {},
   "outputs": [],
   "source": []
  },
  {
   "cell_type": "code",
   "execution_count": null,
   "metadata": {},
   "outputs": [],
   "source": []
  },
  {
   "cell_type": "markdown",
   "metadata": {},
   "source": [
    "## With regularisation, vary cost function, determine optimal parameters, plot resulting distribution of parameters"
   ]
  },
  {
   "cell_type": "code",
   "execution_count": null,
   "metadata": {},
   "outputs": [],
   "source": [
    "angles = np.random.random(1000)*np.pi*2\n",
    "radiuses = np.random.random(1000)*5\n",
    "centres_x = radiuses*np.cos(angles)\n",
    "centres_y = radiuses*np.sin(angles)\n",
    "\n",
    "optimal_x_parameters = []\n",
    "optimal_y_parameters = []\n",
    "\n",
    "for i in range(len(angles)):\n",
    "    cost = create_cost_fn(centres_x[i], centres_y[i], reg = norm, reg_const = 4)\n",
    "    x, y, z = create_cost_inputs_outputs(cost)\n",
    "    min_indices = np.unravel_index(z.argmin(), z.shape)\n",
    "    optimal_x_parameters.append(x[min_indices])\n",
    "    optimal_y_parameters.append(y[min_indices])"
   ]
  },
  {
   "cell_type": "code",
   "execution_count": null,
   "metadata": {},
   "outputs": [],
   "source": [
    "fig, ax = plt.subplots(figsize = (10,10))\n",
    "plt.scatter(x = optimal_x_parameters, y = optimal_y_parameters, alpha= 0.2)\n",
    "plt.title(f'Distribution of optimal parameters for various cost functions with {norm}-regularisation',\n",
    "          fontsize = '14'\n",
    "         )"
   ]
  },
  {
   "cell_type": "code",
   "execution_count": null,
   "metadata": {},
   "outputs": [],
   "source": []
  },
  {
   "cell_type": "markdown",
   "metadata": {},
   "source": [
    "## Visualising change in contour as you increase reg constant"
   ]
  },
  {
   "cell_type": "code",
   "execution_count": null,
   "metadata": {},
   "outputs": [],
   "source": [
    "for reg_const in range(1,11):\n",
    "    cost = create_cost_fn(3,5, reg = norm, reg_const = reg_const)\n",
    "    x, y, z = create_cost_inputs_outputs(cost)\n",
    "    min_indices = np.unravel_index(z.argmin(), z.shape)\n",
    "    fig, ax = plot_contour(x, y, z, levels = np.arange(0,101,5))\n",
    "    plt.plot(x[min_indices], y[min_indices], marker = 'o', color = 'r')\n",
    "    plt.title(f'Cost with {norm}-regularisation. Reg_const = {reg_const}', fontsize = 18)\n",
    "    plt.show()"
   ]
  },
  {
   "cell_type": "code",
   "execution_count": null,
   "metadata": {},
   "outputs": [],
   "source": []
  },
  {
   "cell_type": "code",
   "execution_count": null,
   "metadata": {},
   "outputs": [],
   "source": []
  },
  {
   "cell_type": "code",
   "execution_count": null,
   "metadata": {},
   "outputs": [],
   "source": []
  }
 ],
 "metadata": {
  "kernelspec": {
   "display_name": "Python 3",
   "language": "python",
   "name": "python3"
  },
  "language_info": {
   "codemirror_mode": {
    "name": "ipython",
    "version": 3
   },
   "file_extension": ".py",
   "mimetype": "text/x-python",
   "name": "python",
   "nbconvert_exporter": "python",
   "pygments_lexer": "ipython3",
   "version": "3.8.5"
  }
 },
 "nbformat": 4,
 "nbformat_minor": 4
}
